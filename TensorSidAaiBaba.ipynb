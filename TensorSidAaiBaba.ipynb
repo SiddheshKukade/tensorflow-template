{
  "nbformat": 4,
  "nbformat_minor": 0,
  "metadata": {
    "colab": {
      "name": "TensorSidAaiBaba.ipynb",
      "provenance": [],
      "authorship_tag": "ABX9TyNYxKaskz3R8FE0qmxBDuS+",
      "include_colab_link": true
    },
    "kernelspec": {
      "name": "python3",
      "display_name": "Python 3"
    },
    "language_info": {
      "name": "python"
    }
  },
  "cells": [
    {
      "cell_type": "markdown",
      "metadata": {
        "id": "view-in-github",
        "colab_type": "text"
      },
      "source": [
        "<a href=\"https://colab.research.google.com/github/SiddheshKukade/tensorflow-template/blob/main/TensorSidAaiBaba.ipynb\" target=\"_parent\"><img src=\"https://colab.research.google.com/assets/colab-badge.svg\" alt=\"Open In Colab\"/></a>"
      ]
    },
    {
      "cell_type": "markdown",
      "metadata": {
        "id": "x-d9duh0rU7Z"
      },
      "source": [
        "# TENSORFLOW TUTORIAL\n",
        "### BY - siddhyaOP\n",
        "\n"
      ]
    },
    {
      "cell_type": "markdown",
      "metadata": {
        "id": "4kCqjTtcritk"
      },
      "source": [
        "Make sure to use version 2"
      ]
    },
    {
      "cell_type": "code",
      "metadata": {
        "colab": {
          "base_uri": "https://localhost:8080/"
        },
        "id": "RL1FuyHUrmCA",
        "outputId": "93e9a2b0-460c-4d2a-c30c-02692f983748"
      },
      "source": [
        "%tensorflow_version 2.x  # ONLY REQUIRED FOR THE NOTEBOOK"
      ],
      "execution_count": null,
      "outputs": [
        {
          "output_type": "stream",
          "text": [
            "`%tensorflow_version` only switches the major version: 1.x or 2.x.\n",
            "You set: `2.x  # ONLY REQUIRED FOR THE NOTEBOOK`. This will be interpreted as: `2.x`.\n",
            "\n",
            "\n",
            "TensorFlow 2.x selected.\n"
          ],
          "name": "stdout"
        }
      ]
    },
    {
      "cell_type": "markdown",
      "metadata": {
        "id": "2pdO1pAir33B"
      },
      "source": [
        "### Checking the Version"
      ]
    },
    {
      "cell_type": "code",
      "metadata": {
        "colab": {
          "base_uri": "https://localhost:8080/"
        },
        "id": "Jc6Kq3Y1rBZ6",
        "outputId": "d4c01934-c839-4084-9dab-a1d9dfe9bfbb"
      },
      "source": [
        "import tensorflow as tf \n",
        "\n",
        "print(tf.__version__)"
      ],
      "execution_count": null,
      "outputs": [
        {
          "output_type": "stream",
          "text": [
            "2.5.0\n"
          ],
          "name": "stdout"
        }
      ]
    },
    {
      "cell_type": "markdown",
      "metadata": {
        "id": "H1UNqjrKswl4"
      },
      "source": [
        "### **Creating a Tensor**"
      ]
    },
    {
      "cell_type": "code",
      "metadata": {
        "colab": {
          "base_uri": "https://localhost:8080/"
        },
        "id": "UHwH563Is4hY",
        "outputId": "7edb7e20-18c0-4b2e-9ee8-b3d264c9aad8"
      },
      "source": [
        " # String Tensor\n",
        " String = tf.Variable(\"Siddesh Bhupendra Kukade \" ,tf.string)\n",
        " print(String)\n",
        " # 2d Tensor \n",
        "two = tf.Variable([[\"d\", \"sds\" ,\"weds\"] , [\"sd\", \"sd\" ,\"sdsd\"] , [\"ok\", \"ok\", \"ok\"]] , tf.string)\n",
        " print(two)"
      ],
      "execution_count": null,
      "outputs": [
        {
          "output_type": "stream",
          "text": [
            "<tf.Variable 'Variable:0' shape=() dtype=string, numpy=b'Siddesh Bhupendra Kukade '>\n",
            "<tf.Variable 'Variable:0' shape=(3, 3) dtype=string, numpy=\n",
            "array([[b'd', b'sds', b'weds'],\n",
            "       [b'sd', b'sd', b'sdsd'],\n",
            "       [b'ok', b'ok', b'ok']], dtype=object)>\n"
          ],
          "name": "stdout"
        }
      ]
    },
    {
      "cell_type": "code",
      "metadata": {
        "colab": {
          "base_uri": "https://localhost:8080/"
        },
        "id": "Mv-0563fwBFf",
        "outputId": "28371905-97c9-4d50-9533-3560c0a2f9d7"
      },
      "source": [
        "print(tf.rank(two))"
      ],
      "execution_count": null,
      "outputs": [
        {
          "output_type": "stream",
          "text": [
            "tf.Tensor(2, shape=(), dtype=int32)\n"
          ],
          "name": "stdout"
        }
      ]
    },
    {
      "cell_type": "markdown",
      "metadata": {
        "id": "mAvr8WC6wPQJ"
      },
      "source": [
        "### ***Shapes of Tensor***"
      ]
    },
    {
      "cell_type": "code",
      "metadata": {
        "colab": {
          "base_uri": "https://localhost:8080/"
        },
        "id": "2G_cfaijwQ09",
        "outputId": "a39c3fbd-ae56-4fc4-a492-26b286ab668e"
      },
      "source": [
        "two.shape"
      ],
      "execution_count": null,
      "outputs": [
        {
          "output_type": "execute_result",
          "data": {
            "text/plain": [
              "TensorShape([3, 3])"
            ]
          },
          "metadata": {
            "tags": []
          },
          "execution_count": 25
        }
      ]
    },
    {
      "cell_type": "markdown",
      "metadata": {
        "id": "dmtFvK5F06oD"
      },
      "source": [
        "### Changing the Shape of Tensor\n"
      ]
    },
    {
      "cell_type": "markdown",
      "metadata": {
        "id": "vKyZzvKM1C7y"
      },
      "source": [
        "\n",
        "\n",
        "1.   Ones\n",
        "\n"
      ]
    },
    {
      "cell_type": "code",
      "metadata": {
        "colab": {
          "base_uri": "https://localhost:8080/"
        },
        "id": "22n1EXRO0_IP",
        "outputId": "effb9b58-b981-4562-af03-12e6330d6df3"
      },
      "source": [
        "t1 = tf.ones([1,2,5])\n",
        "t1"
      ],
      "execution_count": null,
      "outputs": [
        {
          "output_type": "execute_result",
          "data": {
            "text/plain": [
              "<tf.Tensor: shape=(1, 2, 5), dtype=float32, numpy=\n",
              "array([[[1., 1., 1., 1., 1.],\n",
              "        [1., 1., 1., 1., 1.]]], dtype=float32)>"
            ]
          },
          "metadata": {
            "tags": []
          },
          "execution_count": 28
        }
      ]
    },
    {
      "cell_type": "markdown",
      "metadata": {
        "id": "jwVFNCJT19Gc"
      },
      "source": [
        "\n",
        "\n",
        "\n",
        "2.   Reshape\n",
        "\n"
      ]
    },
    {
      "cell_type": "code",
      "metadata": {
        "colab": {
          "base_uri": "https://localhost:8080/"
        },
        "id": "UfyBgqRJ2C1S",
        "outputId": "54beabf2-cc01-47b5-ac86-b79e58ee79c0"
      },
      "source": [
        "t2 = tf.reshape(t1, [5,2,1])\n",
        "t2"
      ],
      "execution_count": null,
      "outputs": [
        {
          "output_type": "execute_result",
          "data": {
            "text/plain": [
              "<tf.Tensor: shape=(5, 2, 1), dtype=float32, numpy=\n",
              "array([[[1.],\n",
              "        [1.]],\n",
              "\n",
              "       [[1.],\n",
              "        [1.]],\n",
              "\n",
              "       [[1.],\n",
              "        [1.]],\n",
              "\n",
              "       [[1.],\n",
              "        [1.]],\n",
              "\n",
              "       [[1.],\n",
              "        [1.]]], dtype=float32)>"
            ]
          },
          "metadata": {
            "tags": []
          },
          "execution_count": 32
        }
      ]
    },
    {
      "cell_type": "code",
      "metadata": {
        "colab": {
          "base_uri": "https://localhost:8080/"
        },
        "id": "wO-91xFl3BvE",
        "outputId": "1f45fd67-335a-4494-9a6e-e0dc64a46e84"
      },
      "source": [
        "t3 = tf.reshape(t2  , [2,5,1]) # same output for t1 and t2 as the No of Elements are same i.e 10 elements.\n",
        "t3"
      ],
      "execution_count": null,
      "outputs": [
        {
          "output_type": "execute_result",
          "data": {
            "text/plain": [
              "<tf.Tensor: shape=(2, 5, 1), dtype=float32, numpy=\n",
              "array([[[1.],\n",
              "        [1.],\n",
              "        [1.],\n",
              "        [1.],\n",
              "        [1.]],\n",
              "\n",
              "       [[1.],\n",
              "        [1.],\n",
              "        [1.],\n",
              "        [1.],\n",
              "        [1.]]], dtype=float32)>"
            ]
          },
          "metadata": {
            "tags": []
          },
          "execution_count": 35
        }
      ]
    },
    {
      "cell_type": "markdown",
      "metadata": {
        "id": "Yonq4BSS4JQg"
      },
      "source": [
        "**Auto Reshape**"
      ]
    },
    {
      "cell_type": "code",
      "metadata": {
        "colab": {
          "base_uri": "https://localhost:8080/"
        },
        "id": "aZIqmZjH4OSA",
        "outputId": "9677bd5d-c18b-4163-c358-958f63415e34"
      },
      "source": [
        "t3 = tf.reshape(t3  , [2,5,-1]) # -1 cell is automatically reshapes the Tensor \n",
        "t3"
      ],
      "execution_count": null,
      "outputs": [
        {
          "output_type": "execute_result",
          "data": {
            "text/plain": [
              "<tf.Tensor: shape=(2, 5, 1), dtype=float32, numpy=\n",
              "array([[[-1.],\n",
              "        [-1.],\n",
              "        [-1.],\n",
              "        [-1.],\n",
              "        [-1.]],\n",
              "\n",
              "       [[-1.],\n",
              "        [-1.],\n",
              "        [-1.],\n",
              "        [-1.],\n",
              "        [-1.]]], dtype=float32)>"
            ]
          },
          "metadata": {
            "tags": []
          },
          "execution_count": 41
        }
      ]
    },
    {
      "cell_type": "markdown",
      "metadata": {
        "id": "Dgr5cb0f3dKK"
      },
      "source": [
        "# Types of **Tensors**\n",
        "\n",
        "1.   Variable\n",
        "2.   Constants\n",
        "3.   Placeholder\n",
        "4.   SparseTensor\n",
        "\n",
        "With the execption of ```Variable``` all these tensors are immuttable, meaning their value may not change during execution.\n",
        "\n",
        "For now, it is enough to understand that we use the Variable tensor when we want to potentially change the value of our tensor."
      ]
    },
    {
      "cell_type": "markdown",
      "metadata": {
        "id": "dIcfzyuR5olI"
      },
      "source": [
        "## Evaluating Tensors\n"
      ]
    },
    {
      "cell_type": "code",
      "metadata": {
        "colab": {
          "base_uri": "https://localhost:8080/",
          "height": 191
        },
        "id": "iRvYGqPh5BPf",
        "outputId": "ff681d41-fc8b-4162-f1a1-0d6b3aca6a72"
      },
      "source": [
        "with tf.Session() as sess : \n",
        "  tensor.eval()"
      ],
      "execution_count": null,
      "outputs": [
        {
          "output_type": "error",
          "ename": "AttributeError",
          "evalue": "ignored",
          "traceback": [
            "\u001b[0;31m---------------------------------------------------------------------------\u001b[0m",
            "\u001b[0;31mAttributeError\u001b[0m                            Traceback (most recent call last)",
            "\u001b[0;32m<ipython-input-43-3e4a9f07ff7c>\u001b[0m in \u001b[0;36m<module>\u001b[0;34m()\u001b[0m\n\u001b[0;32m----> 1\u001b[0;31m \u001b[0;32mwith\u001b[0m \u001b[0mtf\u001b[0m\u001b[0;34m.\u001b[0m\u001b[0mSession\u001b[0m\u001b[0;34m(\u001b[0m\u001b[0;34m)\u001b[0m \u001b[0;32mas\u001b[0m \u001b[0msess\u001b[0m \u001b[0;34m:\u001b[0m\u001b[0;34m\u001b[0m\u001b[0;34m\u001b[0m\u001b[0m\n\u001b[0m\u001b[1;32m      2\u001b[0m   \u001b[0mt2\u001b[0m\u001b[0;34m.\u001b[0m\u001b[0meval\u001b[0m\u001b[0;34m(\u001b[0m\u001b[0;34m)\u001b[0m\u001b[0;34m\u001b[0m\u001b[0;34m\u001b[0m\u001b[0m\n",
            "\u001b[0;31mAttributeError\u001b[0m: module 'tensorflow' has no attribute 'Session'"
          ]
        }
      ]
    }
  ]
}